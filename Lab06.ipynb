{
 "cells": [
  {
   "cell_type": "code",
   "execution_count": 4,
   "id": "acd2cee6-7afa-4470-8a54-3d2d889a7813",
   "metadata": {},
   "outputs": [
    {
     "name": "stdout",
     "output_type": "stream",
     "text": [
      "Dataset Preview:\n",
      "   Order_ID  Distance_km Weather Traffic_Level Time_of_Day Vehicle_Type  \\\n",
      "0       522         7.93   Windy           Low   Afternoon      Scooter   \n",
      "1       738        16.42   Clear        Medium     Evening         Bike   \n",
      "2       741         9.52   Foggy           Low       Night      Scooter   \n",
      "3       661         7.44   Rainy        Medium   Afternoon      Scooter   \n",
      "4       412        19.03   Clear           Low     Morning         Bike   \n",
      "\n",
      "   Preparation_Time_min  Courier_Experience_yrs  Delivery_Time_min  \n",
      "0                    12                     1.0                 43  \n",
      "1                    20                     2.0                 84  \n",
      "2                    28                     1.0                 59  \n",
      "3                     5                     1.0                 37  \n",
      "4                    16                     5.0                 68   \n",
      "\n",
      "Intercept: 9.185844129900353\n",
      "Coefficients:\n",
      "Distance_km: 3.0265\n",
      "Preparation_Time_min: 1.0045\n",
      "Traffic_Level: -1.3842\n",
      "Weather: 1.3824\n",
      "\n",
      "Model Performance:\n",
      "R² Score: 0.7520\n",
      "Mean Squared Error: 111.1773\n"
     ]
    }
   ],
   "source": [
    "# Import required libraries\n",
    "import pandas as pd\n",
    "from sklearn.model_selection import train_test_split\n",
    "from sklearn.preprocessing import LabelEncoder\n",
    "from sklearn.linear_model import LinearRegression\n",
    "from sklearn.metrics import r2_score, mean_squared_error\n",
    "\n",
    "# Load dataset\n",
    "data = pd.read_csv('Food_Delivery_Times.csv')\n",
    "\n",
    "# Display first few rows\n",
    "print(\"Dataset Preview:\")\n",
    "print(data.head(), \"\\n\")\n",
    "\n",
    "# Encode categorical variables (Traffic, Weather)\n",
    "label_encoders = {}\n",
    "for col in ['Traffic_Level', 'Weather']:\n",
    "    le = LabelEncoder()\n",
    "    data[col] = le.fit_transform(data[col])\n",
    "    label_encoders[col] = le\n",
    "\n",
    "# Define independent and dependent variables\n",
    "X = data[['Distance_km', 'Preparation_Time_min', 'Traffic_Level', 'Weather']]\n",
    "y = data['Delivery_Time_min']\n",
    "\n",
    "# Split data into train and test sets (80% train, 20% test)\n",
    "X_train, X_test, y_train, y_test = train_test_split(X, y, test_size=0.2, random_state=42)\n",
    "\n",
    "# Create and fit Linear Regression model\n",
    "model = LinearRegression()\n",
    "model.fit(X_train, y_train)\n",
    "\n",
    "# Predict on test set\n",
    "y_pred = model.predict(X_test)\n",
    "\n",
    "# Display coefficients\n",
    "print(\"Intercept:\", model.intercept_)\n",
    "print(\"Coefficients:\")\n",
    "for feature, coef in zip(X.columns, model.coef_):\n",
    "    print(f\"{feature}: {coef:.4f}\")\n",
    "\n",
    "# Evaluate model performance\n",
    "r2 = r2_score(y_test, y_pred)\n",
    "mse = mean_squared_error(y_test, y_pred)\n",
    "print(\"\\nModel Performance:\")\n",
    "print(f\"R² Score: {r2:.4f}\")\n",
    "print(f\"Mean Squared Error: {mse:.4f}\")\n"
   ]
  },
  {
   "cell_type": "code",
   "execution_count": null,
   "id": "3b7957c4-998d-497c-a6f5-e40f14d6f193",
   "metadata": {},
   "outputs": [],
   "source": []
  }
 ],
 "metadata": {
  "kernelspec": {
   "display_name": "Python 3 (ipykernel)",
   "language": "python",
   "name": "python3"
  },
  "language_info": {
   "codemirror_mode": {
    "name": "ipython",
    "version": 3
   },
   "file_extension": ".py",
   "mimetype": "text/x-python",
   "name": "python",
   "nbconvert_exporter": "python",
   "pygments_lexer": "ipython3",
   "version": "3.13.5"
  }
 },
 "nbformat": 4,
 "nbformat_minor": 5
}
